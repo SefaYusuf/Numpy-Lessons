{
 "cells": [
  {
   "cell_type": "markdown",
   "id": "49ef44f9-af20-4baa-a0e6-9e672614b46c",
   "metadata": {},
   "source": [
    "Arraylerde Arama Yapma | where() "
   ]
  },
  {
   "cell_type": "code",
   "execution_count": 1,
   "id": "75534a90-0412-4bac-b65f-919798f0ea27",
   "metadata": {},
   "outputs": [],
   "source": [
    "import numpy as np"
   ]
  },
  {
   "cell_type": "code",
   "execution_count": 2,
   "id": "1357a6dc-8f8a-410b-befc-59fb834f583f",
   "metadata": {},
   "outputs": [],
   "source": [
    "arr = np.array([1,2,3,4,5,4,4])"
   ]
  },
  {
   "cell_type": "code",
   "execution_count": 3,
   "id": "a32e42a3-4120-4dcb-81c8-39f6149c8ec0",
   "metadata": {},
   "outputs": [
    {
     "name": "stdout",
     "output_type": "stream",
     "text": [
      "(array([3, 5, 6], dtype=int64),)\n"
     ]
    }
   ],
   "source": [
    "x = np.where((arr == 4))\n",
    "print(x)"
   ]
  },
  {
   "cell_type": "code",
   "execution_count": 4,
   "id": "1ddb673f-a224-4212-aa68-79d405f3d8d5",
   "metadata": {},
   "outputs": [
    {
     "name": "stdout",
     "output_type": "stream",
     "text": [
      "(array([1], dtype=int64),)\n"
     ]
    }
   ],
   "source": [
    "x2 = np.where((arr <= 2) & (arr % 2 == 0))\n",
    "print(x2)"
   ]
  },
  {
   "cell_type": "code",
   "execution_count": 5,
   "id": "8d82d31b-4897-4bd4-b28f-94c8c83f88bb",
   "metadata": {},
   "outputs": [
    {
     "name": "stdout",
     "output_type": "stream",
     "text": [
      "(array([0, 1, 3, 5, 6], dtype=int64),)\n"
     ]
    }
   ],
   "source": [
    "x3 = np.where((arr <= 2) | (arr % 2 == 0))\n",
    "print(x3)"
   ]
  },
  {
   "cell_type": "code",
   "execution_count": 6,
   "id": "2de6c872-d86a-4e08-a7cd-e6f5949c0ad9",
   "metadata": {},
   "outputs": [],
   "source": [
    "# Numpy'da rastgele sayi uretme methodlari"
   ]
  },
  {
   "cell_type": "code",
   "execution_count": 7,
   "id": "50ceac68-0c16-471c-a9dc-c540938f1f6b",
   "metadata": {},
   "outputs": [],
   "source": [
    "from numpy import random"
   ]
  },
  {
   "cell_type": "code",
   "execution_count": 9,
   "id": "b58185e3-cac2-41d1-9f9c-b9db0a6d4bc7",
   "metadata": {},
   "outputs": [
    {
     "name": "stdout",
     "output_type": "stream",
     "text": [
      "99\n"
     ]
    }
   ],
   "source": [
    "y = random.randint(100)\n",
    "print(y) "
   ]
  },
  {
   "cell_type": "code",
   "execution_count": 11,
   "id": "e495f6a1-05ff-48db-bcb3-bedb47727c4c",
   "metadata": {},
   "outputs": [
    {
     "name": "stdout",
     "output_type": "stream",
     "text": [
      "9\n"
     ]
    }
   ],
   "source": [
    "y1 = random.randint(5,15)\n",
    "print(y1)"
   ]
  },
  {
   "cell_type": "code",
   "execution_count": 12,
   "id": "88c54bc1-c341-4862-bd28-00cb07be7854",
   "metadata": {},
   "outputs": [
    {
     "name": "stdout",
     "output_type": "stream",
     "text": [
      "1\n"
     ]
    }
   ],
   "source": [
    "y2 = random.randint(2)\n",
    "print(y2)"
   ]
  },
  {
   "cell_type": "code",
   "execution_count": 13,
   "id": "86aadcdf-e128-4267-877d-cbf0acd79450",
   "metadata": {},
   "outputs": [
    {
     "name": "stdout",
     "output_type": "stream",
     "text": [
      "[1 1 0 0 1 1 1 0 0 1]\n"
     ]
    }
   ],
   "source": [
    "arr2 = np.random.randint(2,size = 10)  # shape(10,) gibi demek\n",
    "print(arr2)"
   ]
  },
  {
   "cell_type": "code",
   "execution_count": 14,
   "id": "b946fcad-43fe-48cd-847f-d41770b90684",
   "metadata": {},
   "outputs": [
    {
     "name": "stdout",
     "output_type": "stream",
     "text": [
      "[2 5 2 6 2 2 6 7 4 2]\n"
     ]
    }
   ],
   "source": [
    "arr3 = np.random.randint(8,size = 10)  \n",
    "print(arr3)"
   ]
  },
  {
   "cell_type": "code",
   "execution_count": 15,
   "id": "292057e0-111c-4f3e-affd-9531237f3981",
   "metadata": {},
   "outputs": [
    {
     "name": "stdout",
     "output_type": "stream",
     "text": [
      "[[7 5 6 2]\n",
      " [0 5 3 7]\n",
      " [2 2 2 0]]\n"
     ]
    }
   ],
   "source": [
    "# shape(3,4)\n",
    "\n",
    "arr4 = np.random.randint(8,size = (3,4))\n",
    "print(arr4)"
   ]
  },
  {
   "cell_type": "code",
   "execution_count": 18,
   "id": "d0a4f98b-2856-4ff1-b854-2b57a2c79884",
   "metadata": {},
   "outputs": [
    {
     "name": "stdout",
     "output_type": "stream",
     "text": [
      "[[[7 4]\n",
      "  [4 3]\n",
      "  [3 0]]\n",
      "\n",
      " [[4 0]\n",
      "  [3 1]\n",
      "  [5 3]]\n",
      "\n",
      " [[0 3]\n",
      "  [7 3]\n",
      "  [2 1]]\n",
      "\n",
      " [[0 2]\n",
      "  [1 4]\n",
      "  [1 2]]]\n"
     ]
    }
   ],
   "source": [
    "arr4 = np.random.randint(8,size = (4,3,2))\n",
    "print(arr4)"
   ]
  },
  {
   "cell_type": "code",
   "execution_count": 19,
   "id": "34a06d61-e1d1-458d-b85f-ab1cd5df6b44",
   "metadata": {},
   "outputs": [],
   "source": [
    "# rand() float sayilar uretir"
   ]
  },
  {
   "cell_type": "code",
   "execution_count": 21,
   "id": "2dbc6e4e-dfdd-4541-aec6-0cf529a32d57",
   "metadata": {},
   "outputs": [
    {
     "name": "stdout",
     "output_type": "stream",
     "text": [
      "0.5755196780846833\n"
     ]
    }
   ],
   "source": [
    "z = random.rand()\n",
    "print(z)"
   ]
  },
  {
   "cell_type": "code",
   "execution_count": 23,
   "id": "ceee6053-6abf-4e43-987d-2761e2dffa5f",
   "metadata": {},
   "outputs": [
    {
     "name": "stdout",
     "output_type": "stream",
     "text": [
      "[[0.06278271 0.97033521]\n",
      " [0.32982738 0.61630608]\n",
      " [0.88518315 0.30415126]]\n"
     ]
    }
   ],
   "source": [
    "z1 = np.random.rand(3,2)   # shape(3,2)   size'a gerek yok direkt size olarak alir\n",
    "print(z1)"
   ]
  },
  {
   "cell_type": "code",
   "execution_count": 24,
   "id": "9aeecfbe-18d1-497e-a1fb-e115f2914b50",
   "metadata": {},
   "outputs": [
    {
     "name": "stdout",
     "output_type": "stream",
     "text": [
      "[[[0.03199997 0.65997972]\n",
      "  [0.04610441 0.71186741]]\n",
      "\n",
      " [[0.70248521 0.11727756]\n",
      "  [0.08405319 0.64966682]]\n",
      "\n",
      " [[0.37852436 0.69240257]\n",
      "  [0.19084089 0.43225049]]]\n"
     ]
    }
   ],
   "source": [
    "z2 = np.random.rand(3,2,2)\n",
    "print(z2)"
   ]
  },
  {
   "cell_type": "code",
   "execution_count": 25,
   "id": "6c321197-c35d-4d35-95a9-ed0e162b8eb9",
   "metadata": {},
   "outputs": [],
   "source": [
    "# zeros() methodu 0'lar ureten bir metoddur "
   ]
  },
  {
   "cell_type": "code",
   "execution_count": 27,
   "id": "240c7c09-e29e-4ba0-ae6c-094e597c2aff",
   "metadata": {},
   "outputs": [
    {
     "name": "stdout",
     "output_type": "stream",
     "text": [
      "[0. 0. 0.]\n"
     ]
    }
   ],
   "source": [
    "k1 = np.zeros(3)\n",
    "print(k1)"
   ]
  },
  {
   "cell_type": "code",
   "execution_count": 28,
   "id": "7859516d-79a2-4a64-8b0a-e6e17f7b1588",
   "metadata": {},
   "outputs": [
    {
     "data": {
      "text/plain": [
       "array([0, 0, 0, 0, 0])"
      ]
     },
     "execution_count": 28,
     "metadata": {},
     "output_type": "execute_result"
    }
   ],
   "source": [
    "k2 = np.zeros(5,dtype = 'int')\n",
    "k2"
   ]
  },
  {
   "cell_type": "code",
   "execution_count": 29,
   "id": "50b5e320-3fdc-44c9-8101-590aeafdba1f",
   "metadata": {},
   "outputs": [
    {
     "data": {
      "text/plain": [
       "array([[0, 0]])"
      ]
     },
     "execution_count": 29,
     "metadata": {},
     "output_type": "execute_result"
    }
   ],
   "source": [
    "k3 = np.zeros((1,2),dtype = 'int')\n",
    "k3"
   ]
  },
  {
   "cell_type": "code",
   "execution_count": 30,
   "id": "2204ce3e-9857-4888-a3f1-802a95955c5f",
   "metadata": {},
   "outputs": [
    {
     "data": {
      "text/plain": [
       "array([[[0],\n",
       "        [0],\n",
       "        [0],\n",
       "        [0]],\n",
       "\n",
       "       [[0],\n",
       "        [0],\n",
       "        [0],\n",
       "        [0]]])"
      ]
     },
     "execution_count": 30,
     "metadata": {},
     "output_type": "execute_result"
    }
   ],
   "source": [
    "k4 = np.zeros((2,4,1),dtype = 'int')\n",
    "k4"
   ]
  },
  {
   "cell_type": "code",
   "execution_count": 31,
   "id": "808ebe06-9e8b-415b-a887-7c495af973a7",
   "metadata": {},
   "outputs": [
    {
     "data": {
      "text/plain": [
       "array([[[False],\n",
       "        [False],\n",
       "        [False],\n",
       "        [False]],\n",
       "\n",
       "       [[False],\n",
       "        [False],\n",
       "        [False],\n",
       "        [False]]])"
      ]
     },
     "execution_count": 31,
     "metadata": {},
     "output_type": "execute_result"
    }
   ],
   "source": [
    "k5 = np.zeros((2,4,1),dtype = bool)\n",
    "k5"
   ]
  },
  {
   "cell_type": "code",
   "execution_count": null,
   "id": "6d1cf035-202c-4931-9dd7-10a86ae01f9e",
   "metadata": {},
   "outputs": [],
   "source": [
    "# zeros_like() bu methoda parametre olarak array veriliyor \n",
    "#o arrayle ayni data tipine ait olan arrayi geri donderir"
   ]
  },
  {
   "cell_type": "code",
   "execution_count": 32,
   "id": "759b273f-bdad-47ac-987f-823a056ba4a6",
   "metadata": {},
   "outputs": [
    {
     "name": "stdout",
     "output_type": "stream",
     "text": [
      "[[[ 0  1  2  3]\n",
      "  [ 4  5  6  7]\n",
      "  [ 8  9 10 11]\n",
      "  [12 13 14 15]]\n",
      "\n",
      " [[16 17 18 19]\n",
      "  [20 21 22 23]\n",
      "  [24 25 26 27]\n",
      "  [28 29 30 31]]\n",
      "\n",
      " [[32 33 34 35]\n",
      "  [36 37 38 39]\n",
      "  [40 41 42 43]\n",
      "  [44 45 46 47]]]\n"
     ]
    }
   ],
   "source": [
    "m = np.arange(48).reshape(3,4,4)\n",
    "print(m)"
   ]
  },
  {
   "cell_type": "code",
   "execution_count": 33,
   "id": "e04b6679-d271-45c3-a0f9-909d9fb2ff5d",
   "metadata": {},
   "outputs": [
    {
     "name": "stdout",
     "output_type": "stream",
     "text": [
      "[[[0 0 0 0]\n",
      "  [0 0 0 0]\n",
      "  [0 0 0 0]\n",
      "  [0 0 0 0]]\n",
      "\n",
      " [[0 0 0 0]\n",
      "  [0 0 0 0]\n",
      "  [0 0 0 0]\n",
      "  [0 0 0 0]]\n",
      "\n",
      " [[0 0 0 0]\n",
      "  [0 0 0 0]\n",
      "  [0 0 0 0]\n",
      "  [0 0 0 0]]]\n"
     ]
    }
   ],
   "source": [
    "zlike_arr = np.zeros_like(m)\n",
    "print(zlike_arr)"
   ]
  },
  {
   "cell_type": "code",
   "execution_count": 34,
   "id": "d134654f-7003-479d-956a-0bc96e2ff268",
   "metadata": {},
   "outputs": [],
   "source": [
    "# ones() methodu deger olarak birler ureten method"
   ]
  },
  {
   "cell_type": "code",
   "execution_count": 35,
   "id": "b62fe224-bc0d-4d66-9468-1988f0161443",
   "metadata": {},
   "outputs": [
    {
     "name": "stdout",
     "output_type": "stream",
     "text": [
      "[1. 1. 1. 1. 1.]\n"
     ]
    }
   ],
   "source": [
    "arr_ones = np.ones(5)\n",
    "print(arr_ones)"
   ]
  },
  {
   "cell_type": "code",
   "execution_count": 36,
   "id": "e98fc4eb-4a8e-4c8d-accb-bafa64b85dba",
   "metadata": {},
   "outputs": [
    {
     "data": {
      "text/plain": [
       "array([1, 1, 1, 1, 1])"
      ]
     },
     "execution_count": 36,
     "metadata": {},
     "output_type": "execute_result"
    }
   ],
   "source": [
    "arr_ones2 = np.ones(5,dtype = 'int')\n",
    "arr_ones2"
   ]
  },
  {
   "cell_type": "code",
   "execution_count": 39,
   "id": "e242ab94-e521-4ebd-8403-5aa96f45a8f8",
   "metadata": {},
   "outputs": [
    {
     "data": {
      "text/plain": [
       "array([[[1, 1, 1],\n",
       "        [1, 1, 1],\n",
       "        [1, 1, 1],\n",
       "        [1, 1, 1],\n",
       "        [1, 1, 1]],\n",
       "\n",
       "       [[1, 1, 1],\n",
       "        [1, 1, 1],\n",
       "        [1, 1, 1],\n",
       "        [1, 1, 1],\n",
       "        [1, 1, 1]]])"
      ]
     },
     "execution_count": 39,
     "metadata": {},
     "output_type": "execute_result"
    }
   ],
   "source": [
    "arr_ones3 = np.ones((2,5,3),dtype = 'int')\n",
    "arr_ones3"
   ]
  },
  {
   "cell_type": "code",
   "execution_count": 40,
   "id": "0bcc23e0-f90f-43cc-96b0-bd0c20257eb9",
   "metadata": {},
   "outputs": [],
   "source": [
    "# ones_like() "
   ]
  },
  {
   "cell_type": "code",
   "execution_count": 41,
   "id": "ff4db336-0f68-4779-9442-a1be895cb8af",
   "metadata": {},
   "outputs": [
    {
     "name": "stdout",
     "output_type": "stream",
     "text": [
      "[[[ 0  1  2  3]\n",
      "  [ 4  5  6  7]\n",
      "  [ 8  9 10 11]\n",
      "  [12 13 14 15]]\n",
      "\n",
      " [[16 17 18 19]\n",
      "  [20 21 22 23]\n",
      "  [24 25 26 27]\n",
      "  [28 29 30 31]]\n",
      "\n",
      " [[32 33 34 35]\n",
      "  [36 37 38 39]\n",
      "  [40 41 42 43]\n",
      "  [44 45 46 47]]]\n"
     ]
    }
   ],
   "source": [
    "n = np.arange(48).reshape(3,4,4)\n",
    "print(n)"
   ]
  },
  {
   "cell_type": "code",
   "execution_count": 42,
   "id": "4d65fe30-38fb-466d-94bc-cf20913780f3",
   "metadata": {},
   "outputs": [
    {
     "name": "stdout",
     "output_type": "stream",
     "text": [
      "[[[1 1 1 1]\n",
      "  [1 1 1 1]\n",
      "  [1 1 1 1]\n",
      "  [1 1 1 1]]\n",
      "\n",
      " [[1 1 1 1]\n",
      "  [1 1 1 1]\n",
      "  [1 1 1 1]\n",
      "  [1 1 1 1]]\n",
      "\n",
      " [[1 1 1 1]\n",
      "  [1 1 1 1]\n",
      "  [1 1 1 1]\n",
      "  [1 1 1 1]]]\n"
     ]
    }
   ],
   "source": [
    "n2 = np.ones_like(n)\n",
    "print(n2)"
   ]
  },
  {
   "cell_type": "code",
   "execution_count": 43,
   "id": "3f026d8e-c8f4-4aca-8d78-ba6a1bfa5826",
   "metadata": {},
   "outputs": [
    {
     "data": {
      "text/plain": [
       "array([[1., 0.],\n",
       "       [0., 1.]])"
      ]
     },
     "execution_count": 43,
     "metadata": {},
     "output_type": "execute_result"
    }
   ],
   "source": [
    "# eye()  parametre olarak ciktida istenilen satir sayisini alir\n",
    "\n",
    "np.eye(2)"
   ]
  },
  {
   "cell_type": "code",
   "execution_count": 44,
   "id": "88a6a491-ee4f-4da8-a26b-8c45d20f9851",
   "metadata": {},
   "outputs": [
    {
     "data": {
      "text/plain": [
       "array([[1, 0],\n",
       "       [0, 1]])"
      ]
     },
     "execution_count": 44,
     "metadata": {},
     "output_type": "execute_result"
    }
   ],
   "source": [
    "np.eye(2, dtype = 'int')"
   ]
  },
  {
   "cell_type": "code",
   "execution_count": 45,
   "id": "fc2499e1-ee6d-4fb1-95b9-8275a513a76e",
   "metadata": {},
   "outputs": [
    {
     "data": {
      "text/plain": [
       "array([[1, 0, 0],\n",
       "       [0, 1, 0],\n",
       "       [0, 0, 1]])"
      ]
     },
     "execution_count": 45,
     "metadata": {},
     "output_type": "execute_result"
    }
   ],
   "source": [
    "np.eye(3, dtype = 'int')"
   ]
  },
  {
   "cell_type": "code",
   "execution_count": 46,
   "id": "ceac2d35-47b9-4b19-aff7-8a8e279f0a50",
   "metadata": {},
   "outputs": [
    {
     "name": "stdout",
     "output_type": "stream",
     "text": [
      "[[0 1]\n",
      " [2 3]]\n"
     ]
    }
   ],
   "source": [
    "# transpose()\n",
    "\n",
    "t = np.arange(4).reshape((2,2))\n",
    "print(t)"
   ]
  },
  {
   "cell_type": "code",
   "execution_count": 48,
   "id": "2698ced2-82e8-408f-93d1-f6e35e7c0038",
   "metadata": {},
   "outputs": [
    {
     "data": {
      "text/plain": [
       "array([[0, 2],\n",
       "       [1, 3]])"
      ]
     },
     "execution_count": 48,
     "metadata": {},
     "output_type": "execute_result"
    }
   ],
   "source": [
    "np.transpose(t)"
   ]
  },
  {
   "cell_type": "code",
   "execution_count": 49,
   "id": "3df83cf9-db1f-4d8f-b02e-1e3abc526660",
   "metadata": {},
   "outputs": [
    {
     "data": {
      "text/plain": [
       "array([[[1, 1, 1],\n",
       "        [1, 1, 1]]])"
      ]
     },
     "execution_count": 49,
     "metadata": {},
     "output_type": "execute_result"
    }
   ],
   "source": [
    "t1 = np.ones((1,2,3),dtype = 'int')\n",
    "t1"
   ]
  },
  {
   "cell_type": "code",
   "execution_count": 54,
   "id": "730a4e16-82b1-489b-95af-a579e5985036",
   "metadata": {},
   "outputs": [
    {
     "data": {
      "text/plain": [
       "array([[[1],\n",
       "        [1]],\n",
       "\n",
       "       [[1],\n",
       "        [1]],\n",
       "\n",
       "       [[1],\n",
       "        [1]]])"
      ]
     },
     "execution_count": 54,
     "metadata": {},
     "output_type": "execute_result"
    }
   ],
   "source": [
    "np.transpose(t1)   #shape'i ters cevirir"
   ]
  },
  {
   "cell_type": "code",
   "execution_count": 52,
   "id": "7869a8ed-a5da-4c00-83af-62f34f4952b1",
   "metadata": {},
   "outputs": [
    {
     "data": {
      "text/plain": [
       "(1, 2, 3)"
      ]
     },
     "execution_count": 52,
     "metadata": {},
     "output_type": "execute_result"
    }
   ],
   "source": [
    "t1.shape"
   ]
  },
  {
   "cell_type": "code",
   "execution_count": 53,
   "id": "91cac92d-bc82-4518-b800-3f676d5eb36f",
   "metadata": {},
   "outputs": [
    {
     "data": {
      "text/plain": [
       "(3, 2, 1)"
      ]
     },
     "execution_count": 53,
     "metadata": {},
     "output_type": "execute_result"
    }
   ],
   "source": [
    "np.transpose(t1).shape"
   ]
  },
  {
   "cell_type": "code",
   "execution_count": 55,
   "id": "769e0c64-a8bd-409b-908a-386ef8c025b9",
   "metadata": {},
   "outputs": [
    {
     "data": {
      "text/plain": [
       "array([[[[1, 1, 1, 1, 1],\n",
       "         [1, 1, 1, 1, 1],\n",
       "         [1, 1, 1, 1, 1],\n",
       "         [1, 1, 1, 1, 1]],\n",
       "\n",
       "        [[1, 1, 1, 1, 1],\n",
       "         [1, 1, 1, 1, 1],\n",
       "         [1, 1, 1, 1, 1],\n",
       "         [1, 1, 1, 1, 1]],\n",
       "\n",
       "        [[1, 1, 1, 1, 1],\n",
       "         [1, 1, 1, 1, 1],\n",
       "         [1, 1, 1, 1, 1],\n",
       "         [1, 1, 1, 1, 1]]],\n",
       "\n",
       "\n",
       "       [[[1, 1, 1, 1, 1],\n",
       "         [1, 1, 1, 1, 1],\n",
       "         [1, 1, 1, 1, 1],\n",
       "         [1, 1, 1, 1, 1]],\n",
       "\n",
       "        [[1, 1, 1, 1, 1],\n",
       "         [1, 1, 1, 1, 1],\n",
       "         [1, 1, 1, 1, 1],\n",
       "         [1, 1, 1, 1, 1]],\n",
       "\n",
       "        [[1, 1, 1, 1, 1],\n",
       "         [1, 1, 1, 1, 1],\n",
       "         [1, 1, 1, 1, 1],\n",
       "         [1, 1, 1, 1, 1]]]])"
      ]
     },
     "execution_count": 55,
     "metadata": {},
     "output_type": "execute_result"
    }
   ],
   "source": [
    "t2 = np.ones((2,3,4,5),dtype=int)\n",
    "t2"
   ]
  },
  {
   "cell_type": "code",
   "execution_count": 56,
   "id": "fa79d998-83b9-4725-bda6-449f535fe6ae",
   "metadata": {},
   "outputs": [
    {
     "data": {
      "text/plain": [
       "(5, 4, 3, 2)"
      ]
     },
     "execution_count": 56,
     "metadata": {},
     "output_type": "execute_result"
    }
   ],
   "source": [
    "np.transpose(t2).shape"
   ]
  },
  {
   "cell_type": "code",
   "execution_count": 57,
   "id": "e2a8f18d-2f6e-458a-b85a-b212005316dd",
   "metadata": {},
   "outputs": [],
   "source": [
    "# empty()\n",
    "# parametre olarak shape alir verilen shape'i bir arrayin girdiler degerler olmadan kendisi belirler"
   ]
  },
  {
   "cell_type": "code",
   "execution_count": 60,
   "id": "b1afbe37-b2f3-483a-8b09-e16e282e3bed",
   "metadata": {},
   "outputs": [
    {
     "name": "stdout",
     "output_type": "stream",
     "text": [
      "[-1544654192         520           0           0      131074]\n"
     ]
    }
   ],
   "source": [
    "t3 = np.empty((5),dtype = int)\n",
    "print(t3)"
   ]
  },
  {
   "cell_type": "code",
   "execution_count": 63,
   "id": "d7d400ee-cc45-4539-8db3-d03422393024",
   "metadata": {},
   "outputs": [
    {
     "name": "stdout",
     "output_type": "stream",
     "text": [
      "[[         0 1072693248          0 1072693248          0]\n",
      " [1072693248          0 1072693248          0 1072693248]]\n"
     ]
    }
   ],
   "source": [
    "t4 = np.empty((2,5),dtype = int)\n",
    "print(t4)"
   ]
  },
  {
   "cell_type": "code",
   "execution_count": 64,
   "id": "0d49e1f6-83a1-492b-bbb8-3fa4dc10c5db",
   "metadata": {},
   "outputs": [
    {
     "data": {
      "text/plain": [
       "array([[1, 2, 3],\n",
       "       [4, 5, 6]])"
      ]
     },
     "execution_count": 64,
     "metadata": {},
     "output_type": "execute_result"
    }
   ],
   "source": [
    "t5 = np.array([[1,2,3],[4,5,6]])\n",
    "t5"
   ]
  },
  {
   "cell_type": "code",
   "execution_count": 65,
   "id": "7e959335-03b2-4046-9434-992923cec18f",
   "metadata": {},
   "outputs": [
    {
     "data": {
      "text/plain": [
       "array([[-1566203216,         520,           0],\n",
       "       [          0,           1,  1912602624]])"
      ]
     },
     "execution_count": 65,
     "metadata": {},
     "output_type": "execute_result"
    }
   ],
   "source": [
    "np.empty_like(t5)"
   ]
  },
  {
   "cell_type": "code",
   "execution_count": 66,
   "id": "77c55417-3739-418f-9b3d-0f68fca5091f",
   "metadata": {},
   "outputs": [
    {
     "data": {
      "text/plain": [
       "array([10, 10, 10, 10, 10])"
      ]
     },
     "execution_count": 66,
     "metadata": {},
     "output_type": "execute_result"
    }
   ],
   "source": [
    "# full() \n",
    "b1 = np.full(5,10)\n",
    "b1"
   ]
  },
  {
   "cell_type": "code",
   "execution_count": 67,
   "id": "e013131a-8cd9-4c62-87db-c878fc1866ca",
   "metadata": {},
   "outputs": [
    {
     "data": {
      "text/plain": [
       "array([1, 2, 3, 4, 5])"
      ]
     },
     "execution_count": 67,
     "metadata": {},
     "output_type": "execute_result"
    }
   ],
   "source": [
    "b2 = np.full(5,[1,2,3,4,5])\n",
    "b2"
   ]
  },
  {
   "cell_type": "code",
   "execution_count": 70,
   "id": "570900cd-1282-4489-82c0-43434d915795",
   "metadata": {},
   "outputs": [
    {
     "data": {
      "text/plain": [
       "array([[1, 2, 3, 4, 5, 6],\n",
       "       [1, 2, 3, 4, 5, 6]])"
      ]
     },
     "execution_count": 70,
     "metadata": {},
     "output_type": "execute_result"
    }
   ],
   "source": [
    "b3 = np.full((2,6),[1,2,3,4,5,6])   # her bir eleman icin bu arrayi yazar direkt\n",
    "b3"
   ]
  },
  {
   "cell_type": "code",
   "execution_count": 72,
   "id": "16749113-aec4-4033-a18c-d5e316d38291",
   "metadata": {},
   "outputs": [
    {
     "data": {
      "text/plain": [
       "array([[9, 9]])"
      ]
     },
     "execution_count": 72,
     "metadata": {},
     "output_type": "execute_result"
    }
   ],
   "source": [
    "b4 = np.full((1,2),9)\n",
    "b4"
   ]
  },
  {
   "cell_type": "code",
   "execution_count": 73,
   "id": "38ec26a9-b081-4d19-a748-e042cc5331bc",
   "metadata": {},
   "outputs": [
    {
     "data": {
      "text/plain": [
       "array([[9, 9],\n",
       "       [9, 9]])"
      ]
     },
     "execution_count": 73,
     "metadata": {},
     "output_type": "execute_result"
    }
   ],
   "source": [
    "b4 = np.full((2,2),9)\n",
    "b4"
   ]
  },
  {
   "cell_type": "code",
   "execution_count": 74,
   "id": "e4dee60d-c6bc-4ee3-9ca5-e9e9e420698b",
   "metadata": {},
   "outputs": [
    {
     "data": {
      "text/plain": [
       "array([[7, 7],\n",
       "       [7, 7],\n",
       "       [7, 7],\n",
       "       [7, 7]])"
      ]
     },
     "execution_count": 74,
     "metadata": {},
     "output_type": "execute_result"
    }
   ],
   "source": [
    "b4 = np.full((4,2),7)\n",
    "b4"
   ]
  },
  {
   "cell_type": "code",
   "execution_count": 75,
   "id": "2e7ed62e-7d08-44d2-9bad-3866f979aa83",
   "metadata": {},
   "outputs": [],
   "source": [
    "# full_like() girilen degerin degerine ve shape'ine gore full array olusturur"
   ]
  },
  {
   "cell_type": "code",
   "execution_count": 77,
   "id": "5f3e37c9-8da7-467c-8bf4-185895e92f34",
   "metadata": {},
   "outputs": [
    {
     "data": {
      "text/plain": [
       "array([0, 1, 2, 3, 4, 5])"
      ]
     },
     "execution_count": 77,
     "metadata": {},
     "output_type": "execute_result"
    }
   ],
   "source": [
    "d1 = np.arange(6,dtype = int)\n",
    "d1"
   ]
  },
  {
   "cell_type": "code",
   "execution_count": 79,
   "id": "89134028-f83d-4749-adbf-cc256a76afe7",
   "metadata": {},
   "outputs": [
    {
     "data": {
      "text/plain": [
       "array([3, 3, 3, 3, 3, 3])"
      ]
     },
     "execution_count": 79,
     "metadata": {},
     "output_type": "execute_result"
    }
   ],
   "source": [
    "d2 = np.full_like(d1,3)\n",
    "d2"
   ]
  },
  {
   "cell_type": "code",
   "execution_count": 80,
   "id": "aa22cfa3-2de9-4365-ac5d-a419abf66e07",
   "metadata": {},
   "outputs": [],
   "source": [
    "# rollaxis()\n",
    "    \n",
    "# array,axis\n"
   ]
  },
  {
   "cell_type": "code",
   "execution_count": 81,
   "id": "eff7cfc8-c203-4d79-9bb2-2e16390658cd",
   "metadata": {},
   "outputs": [
    {
     "data": {
      "text/plain": [
       "array([[0, 1, 2, 3],\n",
       "       [4, 5, 6, 7]])"
      ]
     },
     "execution_count": 81,
     "metadata": {},
     "output_type": "execute_result"
    }
   ],
   "source": [
    "a = np.arange(8)\n",
    "\n",
    "b = np.reshape(a,(2,4))\n",
    "\n",
    "b"
   ]
  },
  {
   "cell_type": "code",
   "execution_count": 82,
   "id": "3e45d640-532f-40f7-89ba-352895402c83",
   "metadata": {},
   "outputs": [
    {
     "data": {
      "text/plain": [
       "(2, 4)"
      ]
     },
     "execution_count": 82,
     "metadata": {},
     "output_type": "execute_result"
    }
   ],
   "source": [
    "b.shape"
   ]
  },
  {
   "cell_type": "code",
   "execution_count": 83,
   "id": "9aa5dbfe-33a8-4ccd-8083-51e2c954fd61",
   "metadata": {},
   "outputs": [
    {
     "data": {
      "text/plain": [
       "array([[0, 4],\n",
       "       [1, 5],\n",
       "       [2, 6],\n",
       "       [3, 7]])"
      ]
     },
     "execution_count": 83,
     "metadata": {},
     "output_type": "execute_result"
    }
   ],
   "source": [
    "np.rollaxis(b,1)"
   ]
  },
  {
   "cell_type": "code",
   "execution_count": 84,
   "id": "aefcf126-9e57-4816-a30c-512ede8f706d",
   "metadata": {},
   "outputs": [
    {
     "data": {
      "text/plain": [
       "(4, 2)"
      ]
     },
     "execution_count": 84,
     "metadata": {},
     "output_type": "execute_result"
    }
   ],
   "source": [
    "np.rollaxis(b,1).shape"
   ]
  },
  {
   "cell_type": "code",
   "execution_count": 85,
   "id": "2ce4df09-684e-487c-9b2f-dcb13ecce44a",
   "metadata": {},
   "outputs": [
    {
     "data": {
      "text/plain": [
       "(3, 4, 5, 6)"
      ]
     },
     "execution_count": 85,
     "metadata": {},
     "output_type": "execute_result"
    }
   ],
   "source": [
    "q = np.ones((3,4,5,6))\n",
    "q.shape"
   ]
  },
  {
   "cell_type": "code",
   "execution_count": 88,
   "id": "8e674842-d2fe-4e24-a996-b3781c9cd3c9",
   "metadata": {},
   "outputs": [
    {
     "data": {
      "text/plain": [
       "(3, 6, 4, 5)"
      ]
     },
     "execution_count": 88,
     "metadata": {},
     "output_type": "execute_result"
    }
   ],
   "source": [
    "np.rollaxis(q,3,1).shape"
   ]
  },
  {
   "cell_type": "code",
   "execution_count": 89,
   "id": "b2823dd2-b5ee-48b8-9826-f1be0c6d4f04",
   "metadata": {},
   "outputs": [
    {
     "data": {
      "text/plain": [
       "(6, 3, 4, 5)"
      ]
     },
     "execution_count": 89,
     "metadata": {},
     "output_type": "execute_result"
    }
   ],
   "source": [
    "np.rollaxis(q,3).shape"
   ]
  },
  {
   "cell_type": "code",
   "execution_count": null,
   "id": "cfc3a3a3-db6f-4b65-a571-7ef4dd6aff34",
   "metadata": {},
   "outputs": [],
   "source": []
  }
 ],
 "metadata": {
  "kernelspec": {
   "display_name": "Python 3 (ipykernel)",
   "language": "python",
   "name": "python3"
  },
  "language_info": {
   "codemirror_mode": {
    "name": "ipython",
    "version": 3
   },
   "file_extension": ".py",
   "mimetype": "text/x-python",
   "name": "python",
   "nbconvert_exporter": "python",
   "pygments_lexer": "ipython3",
   "version": "3.10.7"
  }
 },
 "nbformat": 4,
 "nbformat_minor": 5
}
